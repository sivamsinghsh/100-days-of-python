{
  "nbformat": 4,
  "nbformat_minor": 0,
  "metadata": {
    "colab": {
      "name": "Day1.ipynb",
      "provenance": [],
      "collapsed_sections": [],
      "authorship_tag": "ABX9TyMbq88E4VhNkcHx4ZeU3T2f",
      "include_colab_link": true
    },
    "kernelspec": {
      "name": "python3",
      "display_name": "Python 3"
    },
    "language_info": {
      "name": "python"
    }
  },
  "cells": [
    {
      "cell_type": "markdown",
      "metadata": {
        "id": "view-in-github",
        "colab_type": "text"
      },
      "source": [
        "<a href=\"https://colab.research.google.com/github/sivamsinghsh/100-days-of-python/blob/main/Day1.ipynb\" target=\"_parent\"><img src=\"https://colab.research.google.com/assets/colab-badge.svg\" alt=\"Open In Colab\"/></a>"
      ]
    },
    {
      "cell_type": "code",
      "execution_count": 4,
      "metadata": {
        "colab": {
          "base_uri": "https://localhost:8080/"
        },
        "id": "dAyYRxwZ8gV8",
        "outputId": "1f8ba669-c3fc-4465-db38-ecee4e11bdef"
      },
      "outputs": [
        {
          "output_type": "stream",
          "name": "stdout",
          "text": [
            "Day 1 - Python Print Function\n",
            "The function is declared like this:\n",
            "print('what to print')\n"
          ]
        }
      ],
      "source": [
        "# Printing\n",
        "\n",
        "# After you have written your code, you should run your program and it should print the following:\n",
        "# Day 1 - Python Print Function\n",
        "# The function is declared like this:\n",
        "# print('what to print')\n",
        "\n",
        "\n",
        "# Output\n",
        "print('Day 1 - Python Print Function')\n",
        "print('The function is declared like this:')\n",
        "print(\"print('what to print')\")"
      ]
    },
    {
      "cell_type": "code",
      "source": [
        "# Debugging Practice\n",
        "\n",
        "# When you run your program, it should print the following:\n",
        "# Day 1 - String Manipulation\n",
        "# String Concatenation is done with the \"+\" sign.\n",
        "# e.g. print(\"Hello \" + \"world\")\n",
        "# New lines can be created with a backslash and n.\n",
        "\n",
        "\n",
        "#Output\n",
        "print(\"Day 1 - String Manipulation\")\n",
        "print('String Concatenation is done with the \"+\" sign.')\n",
        "print(('e.g. print(\"Hello \" \" + \" \"world\")'))\n",
        "print((\"New lines can be created with a backslash and n.\"))\n"
      ],
      "metadata": {
        "colab": {
          "base_uri": "https://localhost:8080/"
        },
        "id": "8QEkDqUT8sfF",
        "outputId": "0d1bc5cd-7ecc-40a6-99cd-a385b133895f"
      },
      "execution_count": 6,
      "outputs": [
        {
          "output_type": "stream",
          "name": "stdout",
          "text": [
            "Day 1 - String Manipulation\n",
            "String Concatenation is done with the \"+\" sign.\n",
            "e.g. print(\"Hello \" \" + \" \"world\")\n",
            "New lines can be created with a backslash and n.\n"
          ]
        }
      ]
    },
    {
      "cell_type": "code",
      "source": [
        "# Input Functions\n",
        "\n",
        "# Write a program that prints the number of characters in a user's name. You might need to Google for a function that calculates the length of a string.\n",
        "\n",
        "# Example Input\n",
        "# Shivam\n",
        "# Example Output\n",
        "# 6\n",
        "\n",
        "# Output\n",
        "name = (len(input(\"what is your name?\")))\n",
        "print(name)"
      ],
      "metadata": {
        "colab": {
          "base_uri": "https://localhost:8080/"
        },
        "id": "hGsvoMrw9xGX",
        "outputId": "323d5d40-e978-4cfb-c348-b6e9c0a2f789"
      },
      "execution_count": 8,
      "outputs": [
        {
          "output_type": "stream",
          "name": "stdout",
          "text": [
            "what is your name?shivam\n",
            "6\n"
          ]
        }
      ]
    },
    {
      "cell_type": "code",
      "source": [
        "# Variables\n",
        "\n",
        "# Write a program that switches the values stored in the variables a and b.\n",
        "# Warning. Do not change the code on lines 1-4 and 12-18. Your program should work for different inputs. e.g. any value of a and b.\n",
        "\n",
        "# Example Input\n",
        "# a: 3 b: 5 \n",
        "# Example Output\n",
        "# a: 5 b: 3 \n",
        "\n",
        "\n",
        "# Output\n",
        "# 🚨 Don't change the code below 👇\n",
        "a = input(\"a: \")\n",
        "b = input(\"b: \")\n",
        "# 🚨 Don't change the code above 👆\n",
        "\n",
        "####################################\n",
        "#Write your code below this line 👇\n",
        "\n",
        "c = a\n",
        "a = b\n",
        "b = c\n",
        "\n",
        "#Write your code above this line 👆\n",
        "####################################\n",
        "\n",
        "# 🚨 Don't change the code below 👇\n",
        "print(\"a: \" + a)\n",
        "print(\"b: \" + b)\n"
      ],
      "metadata": {
        "colab": {
          "base_uri": "https://localhost:8080/"
        },
        "id": "Po1g1uQSAFmn",
        "outputId": "40328670-fdc4-4c73-ee0c-950136de7baf"
      },
      "execution_count": 11,
      "outputs": [
        {
          "output_type": "stream",
          "name": "stdout",
          "text": [
            "a: 2\n",
            "b: 3\n",
            "a: 3\n",
            "b: 2\n"
          ]
        }
      ]
    },
    {
      "cell_type": "code",
      "source": [
        "# Variable Naming\n",
        "\n",
        "# Make sure the variable is readable\n",
        "# the name of variable should be one single unit\n",
        "# We can't use number at the beginning of variable\n",
        "# When the name of the variable is used and it's not spelt the same, we will get a name error."
      ],
      "metadata": {
        "id": "ocKlAEvV_5Kx"
      },
      "execution_count": 12,
      "outputs": []
    },
    {
      "cell_type": "code",
      "source": [
        ""
      ],
      "metadata": {
        "id": "JmQP8BCmIOAE"
      },
      "execution_count": null,
      "outputs": []
    }
  ]
}