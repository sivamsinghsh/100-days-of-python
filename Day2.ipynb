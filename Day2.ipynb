{
  "nbformat": 4,
  "nbformat_minor": 0,
  "metadata": {
    "colab": {
      "name": "Day2.ipynb",
      "provenance": [],
      "collapsed_sections": [],
      "authorship_tag": "ABX9TyMr92w7lwuxBl+ZAqzRP9QB",
      "include_colab_link": true
    },
    "kernelspec": {
      "name": "python3",
      "display_name": "Python 3"
    },
    "language_info": {
      "name": "python"
    }
  },
  "cells": [
    {
      "cell_type": "markdown",
      "metadata": {
        "id": "view-in-github",
        "colab_type": "text"
      },
      "source": [
        "<a href=\"https://colab.research.google.com/github/sivamsinghsh/100-days-of-python/blob/main/Day2.ipynb\" target=\"_parent\"><img src=\"https://colab.research.google.com/assets/colab-badge.svg\" alt=\"Open In Colab\"/></a>"
      ]
    },
    {
      "cell_type": "code",
      "execution_count": 49,
      "metadata": {
        "colab": {
          "base_uri": "https://localhost:8080/"
        },
        "id": "cwjDTiztqHjF",
        "outputId": "444a2fbe-2d3f-4e91-ed1e-a8e39fd76945"
      },
      "outputs": [
        {
          "output_type": "stream",
          "name": "stdout",
          "text": [
            "Hello Alpha\n",
            "Hello Alpha\n"
          ]
        }
      ],
      "source": [
        "# Data Types\n",
        "# Since everything is an object in Python programming, data types are actually classes and variables are instance (object) of these classes.\n",
        "# Strings\n",
        "# Anything that comes under double quote or single quotes comes under the catogary of string.\n",
        "#For Example\n",
        "print('Hello'+' Alpha')\n",
        "print(\"Hello\"+\" Alpha\")"
      ]
    },
    {
      "cell_type": "code",
      "source": [
        "# Subscript\n",
        "# The method of pulling out a particular elements from a string is called as subscript and the number between the square bracket determines which character you are gonna pull out.\n",
        "# The Subscript just goes up from zero to one and two and so on and so forth.So, whenever you get a result that is just off by one then remeber to check whether if you've started counting from zero or if you started counting from one\n",
        "print(\"Hello\"[0])\n",
        "print(\"Hello\"[1])\n",
        "print(\"Hello\"[2])\n",
        "print(\"Hello\"[3])\n",
        "print(\"Hello\"[4])\n",
        "# print(\"Hello\"[5]) when you try to print this it will show an error by saying string index out of range."
      ],
      "metadata": {
        "colab": {
          "base_uri": "https://localhost:8080/"
        },
        "id": "uvfxZUdEGcE_",
        "outputId": "c9c926ea-9e3e-4bbb-f719-4bef6f908f0d"
      },
      "execution_count": 12,
      "outputs": [
        {
          "output_type": "stream",
          "name": "stdout",
          "text": [
            "H\n",
            "e\n",
            "l\n",
            "l\n",
            "o\n"
          ]
        }
      ]
    },
    {
      "cell_type": "code",
      "source": [
        "#Integers\n",
        "# Numbers without any decimal places are considered as integers.\n",
        "print(123+345)\n",
        "print(123_456_32+232_34) # Computer actually remove those underscore and ignores it, while for us it gives us an ability to easily enter values for data in better way"
      ],
      "metadata": {
        "colab": {
          "base_uri": "https://localhost:8080/"
        },
        "id": "vJyIt7MByAwF",
        "outputId": "d9143d2c-ddbf-447a-cc5b-c371012b8e66"
      },
      "execution_count": 15,
      "outputs": [
        {
          "output_type": "stream",
          "name": "stdout",
          "text": [
            "468\n",
            "12368866\n"
          ]
        }
      ]
    },
    {
      "cell_type": "code",
      "source": [
        "# Float\n",
        "# When we have to deal with decimal values it comes under the catogary of floating point numbers.The floating point can be start anywhere around the number.\n",
        "# Python doesn't have an inbuilt double data type but it has a float data type that works and deals with floating values.\n",
        "print(123.34)"
      ],
      "metadata": {
        "colab": {
          "base_uri": "https://localhost:8080/"
        },
        "id": "NoQJyqiKMFge",
        "outputId": "18f5cef8-e093-4440-e56f-05f3127080d4"
      },
      "execution_count": 19,
      "outputs": [
        {
          "output_type": "stream",
          "name": "stdout",
          "text": [
            "123.34\n"
          ]
        }
      ]
    },
    {
      "cell_type": "code",
      "source": [
        "# Boolean\n",
        "# The boolean data type can have only two values which can be either true or false\n",
        "print(10==9)\n",
        "print(8>5)\n",
        "a=5\n",
        "b=7\n",
        "print(a>b)"
      ],
      "metadata": {
        "colab": {
          "base_uri": "https://localhost:8080/"
        },
        "id": "pTnC5-TtO2pV",
        "outputId": "759e09b0-f04e-472c-fd39-639c4a72683f"
      },
      "execution_count": 24,
      "outputs": [
        {
          "output_type": "stream",
          "name": "stdout",
          "text": [
            "False\n",
            "True\n",
            "False\n"
          ]
        }
      ]
    },
    {
      "cell_type": "code",
      "source": [
        "# Type error,Type checking and Type conversion"
      ],
      "metadata": {
        "id": "1T-Ca_IbTu9o"
      },
      "execution_count": 45,
      "outputs": []
    },
    {
      "cell_type": "code",
      "source": [
        "# Type error\n",
        "# TypeError usually comes whenever any operation is performed on an incorrect/unsupported object type.\n",
        "# For examples using the + (addition) operator on a string and an integer value will raise TypeError.\n",
        "\n",
        "num_char = len(input(\"Hello dear\")) \n",
        "print(\"hello sir\" + num_char + \"Nice to meet you\") #if we execute only these two line we will get an type error"
      ],
      "metadata": {
        "colab": {
          "base_uri": "https://localhost:8080/",
          "height": 227
        },
        "id": "ky6c5XRdZysg",
        "outputId": "fec644ca-8bac-4352-e2c6-5a4558c4ee39"
      },
      "execution_count": 46,
      "outputs": [
        {
          "name": "stdout",
          "output_type": "stream",
          "text": [
            "Hello dearAndrew\n"
          ]
        },
        {
          "output_type": "error",
          "ename": "TypeError",
          "evalue": "ignored",
          "traceback": [
            "\u001b[0;31m---------------------------------------------------------------------------\u001b[0m",
            "\u001b[0;31mTypeError\u001b[0m                                 Traceback (most recent call last)",
            "\u001b[0;32m<ipython-input-46-4438b1d6b798>\u001b[0m in \u001b[0;36m<module>\u001b[0;34m()\u001b[0m\n\u001b[1;32m      4\u001b[0m \u001b[0;34m\u001b[0m\u001b[0m\n\u001b[1;32m      5\u001b[0m \u001b[0mnum_char\u001b[0m \u001b[0;34m=\u001b[0m \u001b[0mlen\u001b[0m\u001b[0;34m(\u001b[0m\u001b[0minput\u001b[0m\u001b[0;34m(\u001b[0m\u001b[0;34m\"Hello dear\"\u001b[0m\u001b[0;34m)\u001b[0m\u001b[0;34m)\u001b[0m\u001b[0;34m\u001b[0m\u001b[0;34m\u001b[0m\u001b[0m\n\u001b[0;32m----> 6\u001b[0;31m \u001b[0mprint\u001b[0m\u001b[0;34m(\u001b[0m\u001b[0;34m\"hello sir\"\u001b[0m \u001b[0;34m+\u001b[0m \u001b[0mnum_char\u001b[0m \u001b[0;34m+\u001b[0m \u001b[0;34m\"Nice to meet you\"\u001b[0m\u001b[0;34m)\u001b[0m \u001b[0;31m#if we execute only these two line we will get an type error\u001b[0m\u001b[0;34m\u001b[0m\u001b[0;34m\u001b[0m\u001b[0m\n\u001b[0m",
            "\u001b[0;31mTypeError\u001b[0m: can only concatenate str (not \"int\") to str"
          ]
        }
      ]
    },
    {
      "cell_type": "code",
      "source": [
        "#Type Conversion\n",
        "# The type conversion is a process of converting the type of data to another data type using the type function \n",
        "#To resolve the type error we will add the following line of code and gonna change the type of data in order to solve the problem.\n",
        "num_char = len(input(\"Hello dear \"))\n",
        "new_num_char = str(num_char)\n",
        "print(\"your name has \" + new_num_char + \" characters\") #if we execute only these two line we will get an type error\n",
        "print(type(num_char))"
      ],
      "metadata": {
        "colab": {
          "base_uri": "https://localhost:8080/"
        },
        "id": "zEzj4K83ZkF5",
        "outputId": "674465ad-71ae-48bb-c634-96f8086f8a23"
      },
      "execution_count": 47,
      "outputs": [
        {
          "output_type": "stream",
          "name": "stdout",
          "text": [
            "Hello dear Andrew\n",
            "your name has 6 characters\n",
            "<class 'int'>\n"
          ]
        }
      ]
    },
    {
      "cell_type": "code",
      "source": [
        "# Type checking\n",
        "# The type checking is the process of checking the data type of variables that are known by the compiler.\n",
        "a = float(123)\n",
        "print(type(a))\n"
      ],
      "metadata": {
        "colab": {
          "base_uri": "https://localhost:8080/"
        },
        "id": "Q4IzrbBRZkgr",
        "outputId": "fe8d377b-f9c6-4713-f8b7-c382a0e1ec07"
      },
      "execution_count": 50,
      "outputs": [
        {
          "output_type": "stream",
          "name": "stdout",
          "text": [
            "<class 'float'>\n"
          ]
        }
      ]
    },
    {
      "cell_type": "code",
      "source": [
        "# Write a program that adds the digits in a 2 digit number. e.g. if the input was 35, then the output should be 3 + 5 = 8\n",
        "# Warning. Do not change the code on lines 1-3. Your program should work for different inputs. e.g. any two-digit number.\n",
        "\n",
        "# Example Input 39\n",
        "# Example Output 12\n",
        "\n",
        "# 🚨 Don't change the code below 👇\n",
        "two_digit_number = input(\"Type a two digit number: \")\n",
        "# 🚨 Don't change the code above 👆\n",
        "\n",
        "####################################\n",
        "#Write your code below this line 👇\n",
        "\n",
        "a = int(two_digit_number[0])\n",
        "b = int(two_digit_number[1])\n",
        "sum = a+b # We can also write sum = int(a)+int(b) result will be same\n",
        "print(sum)"
      ],
      "metadata": {
        "colab": {
          "base_uri": "https://localhost:8080/"
        },
        "id": "fPjv8pGJsvf2",
        "outputId": "e18845b6-5dc8-4c14-e581-8adaf845c60c"
      },
      "execution_count": 54,
      "outputs": [
        {
          "output_type": "stream",
          "name": "stdout",
          "text": [
            "Type a two digit number: 45\n",
            "9\n"
          ]
        }
      ]
    },
    {
      "cell_type": "code",
      "source": [
        "# Mathematical Operations in Python\n",
        "3+5\n",
        "3*5\n",
        "3-2\n",
        "print(type(3/5))\n",
        "print(2 ** 8) # the two asterisk sign gives you the access to the exponents or when you want to raise the number to a power.\n",
        "\n",
        "# PEMDAS\n",
        "# P- Parentheses\n",
        "# E- Exponents ()\n",
        "# M- Multiplication *\n",
        "# D- Division /\n",
        "# A- Addition +\n",
        "# S- Subtraction -\n",
        "\n",
        "print(3*3+3/3-3)\n",
        "print(3*3/3+3-3)"
      ],
      "metadata": {
        "colab": {
          "base_uri": "https://localhost:8080/"
        },
        "id": "2Xb2WHnCtaSJ",
        "outputId": "54e75a1f-27cb-41ef-f3ef-8a2b5bbfbcf0"
      },
      "execution_count": 65,
      "outputs": [
        {
          "output_type": "stream",
          "name": "stdout",
          "text": [
            "<class 'float'>\n",
            "256\n",
            "7.0\n",
            "3.0\n"
          ]
        }
      ]
    },
    {
      "cell_type": "code",
      "source": [
        "# Write a program that calculates the Body Mass Index (BMI) from a user's weight and height.\n",
        "# The BMI is a measure of some's weight taking into account their height. e.g. If a tall person and a short person both weigh the same amount, the short person is usually more overweight.\n",
        "# The BMI is calculated by dividing a person's weight (in kg) by the square of their height (in m):\n",
        "# Formula: weight (kg) / [height (m)] 2\n",
        "# Warning you should convert the result to a whole number.\n",
        "\n",
        "\n",
        "# Example Input weight = 80 height = 1.75\n",
        "# Example Output 80 ÷ (1.75 x 1.75) = 26.122448979591837  26\n",
        "\n",
        "\n",
        "# 🚨 Don't change the code below 👇\n",
        "height = input(\"enter your height in m: \")\n",
        "weight = input(\"enter your weight in kg: \")\n",
        "# 🚨 Don't change the code above 👆\n",
        "\n",
        "#Write your code below this line 👇\n",
        "Formula = int(weight) / float(height) ** 2\n",
        "Convert = int(Formula)\n",
        "print(Convert)  "
      ],
      "metadata": {
        "colab": {
          "base_uri": "https://localhost:8080/"
        },
        "id": "sQwhxBBH0oCp",
        "outputId": "53ed83f5-2e4d-45d3-bca3-1207151af3a7"
      },
      "execution_count": 79,
      "outputs": [
        {
          "output_type": "stream",
          "name": "stdout",
          "text": [
            "enter your height in m: 1.8\n",
            "enter your weight in kg: 65\n",
            "20\n"
          ]
        }
      ]
    },
    {
      "cell_type": "code",
      "source": [
        ""
      ],
      "metadata": {
        "id": "zNtdJqbdBxLv"
      },
      "execution_count": null,
      "outputs": []
    }
  ]
}